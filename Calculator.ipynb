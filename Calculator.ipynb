{
 "cells": [
  {
   "cell_type": "markdown",
   "metadata": {},
   "source": [
    "## OOP Calculator"
   ]
  },
  {
   "cell_type": "code",
   "execution_count": null,
   "metadata": {},
   "outputs": [],
   "source": [
    "class Calculator():\n",
    "  \n",
    "    def __init__(self, x, y):\n",
    "        self.first_number = x\n",
    "        self.second_number = y\n",
    "        \n",
    "    def add(self):\n",
    "        return self.first_number + self.second_number\n",
    "\n",
    "    def subtract(self):\n",
    "        return self.first_number - self.second_number\n",
    "\n",
    "    def multiply(self):\n",
    "        return self.first_number * self.second_number\n",
    "\n",
    "    def divide(self):\n",
    "        return self.first_number / self.second_number\n",
    "\n",
    "print(\"0. Exit\")\n",
    "print(\"1. Add\")\n",
    "print(\"2. Subtraction\")\n",
    "print(\"3. Multiplication\")\n",
    "print(\"4. Division\")\n",
    "\n",
    "while True:\n",
    "    choice = input(\"Enter choice: \")\n",
    "    \n",
    "    if choice in ('1', '2', '3', '4'):\n",
    "        num1 = float(input(\"Enter first number: \"))\n",
    "        num2 = float(input(\"Enter second number: \"))\n",
    "        calculation1 = Calculator(num1, num2)\n",
    "        \n",
    "        if choice == '1':\n",
    "            result = calculation1.add()\n",
    "\n",
    "        elif choice == '2':\n",
    "            result = calculation1.subtract()\n",
    "\n",
    "        elif choice == '3':\n",
    "            result = calculation1.multiply()\n",
    "        elif choice == '4':\n",
    "            result = calculation1.divide()\n",
    "    elif choice == '0':\n",
    "        break\n",
    "            \n",
    "    print(f'Result:= {result}')  "
   ]
  }
 ],
 "metadata": {
  "kernelspec": {
   "display_name": "Python 3",
   "language": "python",
   "name": "python3"
  },
  "language_info": {
   "codemirror_mode": {
    "name": "ipython",
    "version": 3
   },
   "file_extension": ".py",
   "mimetype": "text/x-python",
   "name": "python",
   "nbconvert_exporter": "python",
   "pygments_lexer": "ipython3",
   "version": "3.7.6"
  }
 },
 "nbformat": 4,
 "nbformat_minor": 4
}
